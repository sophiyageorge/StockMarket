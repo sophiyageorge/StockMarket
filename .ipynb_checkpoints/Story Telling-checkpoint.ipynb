{
 "cells": [
  {
   "cell_type": "markdown",
   "id": "c77f0b72",
   "metadata": {},
   "source": [
    "Power BI stock market fundamental analysis dashboard for NCC "
   ]
  },
  {
   "cell_type": "markdown",
   "id": "3e9e09a6",
   "metadata": {},
   "source": [
    "Profitability Ratios:\n",
    "Net Profit Margin (Net Profit / Revenue)\n",
    "\n",
    "Return on Equity (ROE) (Net Income / Shareholder’s Equity)\n",
    "\n",
    "Return on Assets (ROA) (Net Income / Total Assets)\n",
    "\n",
    "Valuation Ratios:\n",
    "Price-to-Earnings (P/E) Ratio (Stock Price / Earnings per Share)\n",
    "\n",
    "Price-to-Book (P/B) Ratio (Stock Price / Book Value per Share)\n",
    "\n",
    "Earnings Yield (Earnings per Share / Stock Price)\n",
    "\n",
    "Liquidity Ratios:\n",
    "Current Ratio (Current Assets / Current Liabilities)\n",
    "\n",
    "Quick Ratio (Quick Assets / Current Liabilities)\n",
    "\n",
    "Leverage Ratios:\n",
    "Debt-to-Equity Ratio (Total Debt / Shareholder’s Equity)\n",
    "\n",
    "Interest Coverage Ratio (EBIT / Interest Expense)\n",
    "\n",
    "Efficiency Ratios:\n",
    "Asset Turnover Ratio (Revenue / Total Assets)\n",
    "\n",
    "Inventory Turnover Ratio (Cost of Goods Sold / Average Inventory)"
   ]
  },
  {
   "cell_type": "markdown",
   "id": "0ee65ceb",
   "metadata": {},
   "source": [
    "Power BI stock market fundamental analysis dashboard for NCC "
   ]
  },
  {
   "cell_type": "markdown",
   "id": "1e62c297",
   "metadata": {},
   "source": [
    "1. Define Your Data Requirements\n",
    " financial data for NCC\n",
    "Yahoo Finance (historical stock prices, financials)\n",
    "\n",
    "2. Collect and Prepare Data\n",
    "\n",
    "✅ Remove unnecessary columns\n",
    "✅ Format dates properly\n",
    "✅ Convert financial figures into consistent units (millions, billions)\n",
    "✅ Calculate key financial ratios using DAX or Power Query\n",
    "\n",
    "\n",
    "\n",
    "3. Design Your Power BI Dashboard\n",
    "layout for your dashboard:\n",
    "🔹 Stock Overview Section – Current price, market cap, P/E ratio\n",
    "🔹 Profitability Metrics – Net Profit Margin, ROE, ROA\n",
    "🔹 Valuation Ratios – P/E, P/B, Earnings Yield"
   ]
  },
  {
   "cell_type": "markdown",
   "id": "9db4db95",
   "metadata": {},
   "source": [
    "Fetch NCC Data"
   ]
  },
  {
   "cell_type": "code",
   "execution_count": 1,
   "id": "a694f292",
   "metadata": {},
   "outputs": [
    {
     "name": "stderr",
     "output_type": "stream",
     "text": [
      "$NCC.NS: possibly delisted; no price data found  (period=5y)\n"
     ]
    }
   ],
   "source": [
    "import yfinance as yf\n",
    "import pandas as pd\n",
    "\n",
    "# Fetch NCC stock data\n",
    "ticker = \"NCC.NS\"  # Use correct ticker symbol for NCC on Yahoo Finance\n",
    "ncc = yf.Ticker(ticker)\n",
    "\n",
    "# Get historical stock prices\n",
    "stock_data = ncc.history(period=\"3y\")  # Fetch last 5 years of data\n",
    "stock_data.to_csv(\"NCC_Stock_Data.csv\")  # Save as CSV\n",
    "\n",
    "# Get financial statements\n",
    "income_statement = ncc.financials.T\n",
    "balance_sheet = ncc.balance_sheet.T\n",
    "cash_flow = ncc.cashflow.T\n",
    "\n",
    "# Save financial data to CSV\n",
    "income_statement.to_csv(\"NCC_Income_Statement.csv\")\n",
    "balance_sheet.to_csv(\"NCC_Balance_Sheet.csv\")\n",
    "cash_flow.to_csv(\"NCC_Cash_Flow.csv\")\n"
   ]
  }
 ],
 "metadata": {
  "kernelspec": {
   "display_name": "Python 3 (ipykernel)",
   "language": "python",
   "name": "python3"
  },
  "language_info": {
   "codemirror_mode": {
    "name": "ipython",
    "version": 3
   },
   "file_extension": ".py",
   "mimetype": "text/x-python",
   "name": "python",
   "nbconvert_exporter": "python",
   "pygments_lexer": "ipython3",
   "version": "3.11.5"
  }
 },
 "nbformat": 4,
 "nbformat_minor": 5
}
